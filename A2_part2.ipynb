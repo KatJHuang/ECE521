{
 "cells": [
  {
   "cell_type": "code",
   "execution_count": 85,
   "metadata": {
    "collapsed": true
   },
   "outputs": [],
   "source": [
    "import numpy as np\n",
    "import tensorflow as tf"
   ]
  },
  {
   "cell_type": "code",
   "execution_count": 136,
   "metadata": {
    "collapsed": true
   },
   "outputs": [],
   "source": [
    "def loadData():\n",
    "    with np.load(\"notMNIST.npz\") as data:\n",
    "        Data, Target = data [\"images\"], data[\"labels\"]\n",
    "        np.random.seed(521)\n",
    "        randIndx = np.arange(len(Data))\n",
    "        np.random.shuffle(randIndx)\n",
    "        \n",
    "        # flatten each image to a 784 x 1 vector\n",
    "        Data = Data[randIndx]/255.\n",
    "        Data = np.reshape(Data, [18724, 784])\n",
    "        \n",
    "        Target = Target[randIndx]\n",
    "        print(Target.shape)\n",
    "        \n",
    "        trainData, trainTarget = Data[:15000], Target[:15000]\n",
    "        validData, validTarget = Data[15000:16000], Target[15000:16000]\n",
    "        testData, testTarget = Data[16000:], Target[16000:]\n",
    "    \n",
    "    return trainData, trainTarget, validData, validTarget, testData, testTarget"
   ]
  },
  {
   "cell_type": "code",
   "execution_count": 137,
   "metadata": {
    "collapsed": false
   },
   "outputs": [
    {
     "name": "stdout",
     "output_type": "stream",
     "text": [
      "(18724,)\n"
     ]
    }
   ],
   "source": [
    "trainData, trainTarget, validData, validTarget, testData, testTarget = loadData()"
   ]
  },
  {
   "cell_type": "code",
   "execution_count": 138,
   "metadata": {
    "collapsed": true
   },
   "outputs": [],
   "source": [
    "# Create model\n",
    "def neuralNet_2layers(x, weights, biases):\n",
    "    # Hidden layer with RELU activation\n",
    "    hidden_layer_1 = tf.add(tf.matmul(x, weights['h1']), biases['b1'])\n",
    "    hidden_layer_1 = tf.nn.relu(hidden_layer_1)\n",
    "    # Hidden layer with RELU activation\n",
    "    hidden_layer_2 = tf.add(tf.matmul(layer_1, weights['h2']), biases['b2'])\n",
    "    hidden_layer_2 = tf.nn.relu(hidden_layer_2)\n",
    "    # Output layer with linear activation and softmax normalization\n",
    "    out_layer = tf.matmul(layer_2, weights['out']) + biases['out']\n",
    "    out_layer = tf.nn.softmax(out_layer)\n",
    "    return out_layer"
   ]
  },
  {
   "cell_type": "code",
   "execution_count": 139,
   "metadata": {
    "collapsed": true
   },
   "outputs": [],
   "source": [
    "def buildGraph_2layers(n_input, n_hidden_1, n_hidden_2, n_classes):\n",
    "    weights = {\n",
    "        'h1': tf.Variable(tf.random_normal([n_input, n_hidden_1])),\n",
    "        'h2': tf.Variable(tf.random_normal([n_hidden_1, n_hidden_2])),\n",
    "        'out': tf.Variable(tf.random_normal([n_hidden_2, n_classes]))\n",
    "    }\n",
    "    biases = {\n",
    "        'b1': tf.Variable(tf.random_normal([n_hidden_1])),\n",
    "        'b2': tf.Variable(tf.random_normal([n_hidden_2])),\n",
    "        'out': tf.Variable(tf.random_normal([n_classes]))\n",
    "    }\n",
    "    \n",
    "    # Construct model: forward propagation\n",
    "    pred = neuralNet_2layers(x, weights, biases)\n",
    "\n",
    "    # Define loss and optimizer\n",
    "    cost = tf.reduce_mean(tf.nn.softmax_cross_entropy_with_logits(logits=pred, labels=y))\n",
    "    optimizer = tf.train.AdamOptimizer(learning_rate=learning_rate).minimize(cost)\n",
    "    \n",
    "    return weights, biases, pred, cost, optimizer"
   ]
  },
  {
   "cell_type": "code",
   "execution_count": 172,
   "metadata": {
    "collapsed": true
   },
   "outputs": [],
   "source": [
    "def neuralNet_1layer(x, hidden_1, output):\n",
    "    # Hidden layer with RELU activation\n",
    "    hidden_layer_1 = tf.add(tf.matmul(x, hidden_1['weights']), hidden_1['bias'])\n",
    "    hidden_layer_1 = tf.nn.relu(hidden_layer_1)\n",
    "    # Output layer with linear activation\n",
    "    out_layer = tf.matmul(hidden_layer_1, output['weights']) + output['bias']\n",
    "    out_layer = tf.nn.softmax(out_layer)\n",
    "    return out_layer"
   ]
  },
  {
   "cell_type": "code",
   "execution_count": 179,
   "metadata": {
    "collapsed": false
   },
   "outputs": [],
   "source": [
    "def buildGraph_1layer(learning_rate, n_input, n_hidden_1, n_classes):\n",
    "#     learning_rate = 0.01;\n",
    "    \n",
    "    x = tf.placeholder(tf.float32, [None,784])\n",
    "    y_target = tf.placeholder(tf.int32, [None,1])\n",
    "    \n",
    "    Lambda = tf.placeholder(\"float32\")\n",
    "    \n",
    "    # Xavier initialization is used\n",
    "    hidden_1 = {\n",
    "        'weights': tf.Variable(\n",
    "            tf.truncated_normal([n_input, n_hidden_1],\n",
    "                            stddev=3.0 / (n_input + n_hidden_1))\n",
    "        ),\n",
    "        'bias': tf.Variable(tf.zeros([n_hidden_1]))\n",
    "    }\n",
    "    \n",
    "    output = {\n",
    "        'weights': tf.Variable(\n",
    "            tf.truncated_normal([n_hidden_1, n_classes],\n",
    "                            stddev=3.0 / (n_hidden_1 + n_classes))\n",
    "        ),\n",
    "        'bias' : tf.Variable(tf.zeros([n_classes]))\n",
    "    }\n",
    "    \n",
    "    # Construct model: forward propagation\n",
    "    pred = neuralNet_1layer(x, hidden_1, output)\n",
    "#     pred = tf.argmax(pred, 1, name=None)\n",
    "    \n",
    "\n",
    "    # Define loss and optimizer\n",
    "    weight_decay = Lambda * (\n",
    "        tf.reduce_mean(\n",
    "            tf.reduce_sum(\n",
    "                tf.square(hidden_1['weights'])\n",
    "            ) +  \n",
    "            tf.reduce_sum(\n",
    "                tf.square(output['weights'])\n",
    "            )\n",
    "        )\n",
    "    )\n",
    "    \n",
    "#     y_target = tf.one_hot(y_target, 10)\n",
    "    y_target = tf.reshape(y_target, [-1])\n",
    "    \n",
    "    print(\"pred: \", pred)\n",
    "    print(\"target: \", y_target)\n",
    "    \n",
    "    cross_entropy = tf.reduce_mean(tf.nn.sparse_softmax_cross_entropy_with_logits(logits=pred, labels=y_target))\n",
    "    cost = cross_entropy + weight_decay\n",
    "    \n",
    "    optimizer = tf.train.AdamOptimizer(learning_rate=learning_rate).minimize(cost)\n",
    "    \n",
    "    return x, y_target, Lambda, hidden_1, output, pred, cost, optimizer"
   ]
  },
  {
   "cell_type": "code",
   "execution_count": 180,
   "metadata": {
    "collapsed": false,
    "scrolled": false
   },
   "outputs": [
    {
     "name": "stdout",
     "output_type": "stream",
     "text": [
      "pred:  Tensor(\"Softmax_27:0\", shape=(?, 10), dtype=float32)\n",
      "target:  Tensor(\"Reshape_112:0\", shape=(?,), dtype=int32)\n"
     ]
    }
   ],
   "source": [
    "x, y_target, Lambda, hidden_1, output, pred, cost, optimizer = buildGraph_1layer(0.01, 784 , 1000, 10)\n",
    "# tf.get_default_graph().as_graph_def()\n",
    "\n",
    "sess = tf.Session()\n",
    "# Initializing the variables\n",
    "init = tf.global_variables_initializer()\n",
    "sess.run(init)\n",
    "\n",
    "# Training hyper-parameters\n",
    "B = 500\n",
    "max_iter = 100\n",
    "wd_lambda = 0.0000\n",
    "trainLoss_list = []\n",
    "validLoss_list = []\n",
    "testLoss_list = []\n",
    "numBatches = np.floor(15000/B)"
   ]
  },
  {
   "cell_type": "code",
   "execution_count": 181,
   "metadata": {
    "collapsed": false
   },
   "outputs": [
    {
     "name": "stdout",
     "output_type": "stream",
     "text": [
      "training is about to start\n",
      "Iter:   0, MSE-train: 2.30\n",
      "Iter:  10, MSE-train: 2.34\n",
      "Iter:  20, MSE-train: 2.35\n",
      "Iter:  30, MSE-train: 2.38\n",
      "Iter:  40, MSE-train: 2.35\n",
      "Iter:  50, MSE-train: 2.37\n",
      "Iter:  60, MSE-train: 2.38\n",
      "Iter:  70, MSE-train: 2.35\n",
      "Iter:  80, MSE-train: 2.37\n",
      "Iter:  90, MSE-train: 2.38\n",
      "Iter: 100, MSE-train: 2.35\n",
      "Iter: 110, MSE-train: 2.37\n",
      "Iter: 120, MSE-train: 2.38\n",
      "Iter: 130, MSE-train: 2.35\n",
      "Iter: 140, MSE-train: 2.37\n",
      "Iter: 150, MSE-train: 2.38\n",
      "Iter: 160, MSE-train: 2.35\n",
      "Iter: 170, MSE-train: 2.37\n",
      "Iter: 180, MSE-train: 2.38\n",
      "Iter: 190, MSE-train: 2.35\n",
      "Iter: 200, MSE-train: 2.37\n",
      "Iter: 210, MSE-train: 2.38\n",
      "Iter: 220, MSE-train: 2.35\n",
      "Iter: 230, MSE-train: 2.37\n",
      "Iter: 240, MSE-train: 2.38\n",
      "Iter: 250, MSE-train: 2.35\n",
      "Iter: 260, MSE-train: 2.37\n",
      "Iter: 270, MSE-train: 2.38\n",
      "Iter: 280, MSE-train: 2.35\n",
      "Iter: 290, MSE-train: 2.37\n",
      "Iter: 300, MSE-train: 2.38\n",
      "Iter: 310, MSE-train: 2.35\n",
      "Iter: 320, MSE-train: 2.37\n",
      "Iter: 330, MSE-train: 2.38\n",
      "Iter: 340, MSE-train: 2.35\n",
      "Iter: 350, MSE-train: 2.37\n",
      "Iter: 360, MSE-train: 2.38\n",
      "Iter: 370, MSE-train: 2.35\n",
      "Iter: 380, MSE-train: 2.37\n",
      "Iter: 390, MSE-train: 2.38\n",
      "Iter: 400, MSE-train: 2.35\n",
      "Iter: 410, MSE-train: 2.37\n",
      "Iter: 420, MSE-train: 2.38\n",
      "Iter: 430, MSE-train: 2.35\n",
      "Iter: 440, MSE-train: 2.37\n",
      "Iter: 450, MSE-train: 2.38\n",
      "Iter: 460, MSE-train: 2.35\n",
      "Iter: 470, MSE-train: 2.37\n",
      "Iter: 480, MSE-train: 2.38\n",
      "Iter: 490, MSE-train: 2.35\n"
     ]
    }
   ],
   "source": [
    "print (\"training is about to start\")\n",
    "for step in range(0,max_iter):\n",
    "    # sample minibatch without replacement\n",
    "    if step % numBatches == 0:\n",
    "        randIdx = np.arange(15000) \n",
    "        np.random.shuffle(randIdx) \n",
    "        trainData = trainData[randIdx]\n",
    "        i=0\n",
    "    feeddict = {x: trainData[i*B:(i+1)*B],\n",
    "                y_target: trainTarget[i*B:(i+1)*B],\n",
    "                Lambda: wd_lambda}\n",
    "\n",
    "    # Update model parameters\n",
    "    _, _, prediction, loss, _ = sess.run([hidden_layer_1, output_layer, \n",
    "                                        pred, cost, optimizer],\n",
    "                                        feed_dict=feeddict)\n",
    "    i += 1\n",
    "    trainLoss_list.append(loss)\n",
    "    if not (step % 10):\n",
    "        print(\"Iter: %3d, MSE-train: %4.2f\"%(step, loss))"
   ]
  },
  {
   "cell_type": "code",
   "execution_count": 171,
   "metadata": {
    "collapsed": false
   },
   "outputs": [
    {
     "ename": "TypeError",
     "evalue": "Fetch argument 2.3841789 has invalid type <class 'numpy.float32'>, must be a string or Tensor. (Can not convert a float32 into a Tensor or Operation.)",
     "output_type": "error",
     "traceback": [
      "\u001b[0;31m---------------------------------------------------------------------------\u001b[0m",
      "\u001b[0;31mTypeError\u001b[0m                                 Traceback (most recent call last)",
      "\u001b[0;32m/Users/catherinehuang/anaconda3/lib/python3.5/site-packages/tensorflow/python/client/session.py\u001b[0m in \u001b[0;36m__init__\u001b[0;34m(self, fetches, contraction_fn)\u001b[0m\n\u001b[1;32m    266\u001b[0m         self._unique_fetches.append(ops.get_default_graph().as_graph_element(\n\u001b[0;32m--> 267\u001b[0;31m             fetch, allow_tensor=True, allow_operation=True))\n\u001b[0m\u001b[1;32m    268\u001b[0m       \u001b[0;32mexcept\u001b[0m \u001b[0mTypeError\u001b[0m \u001b[0;32mas\u001b[0m \u001b[0me\u001b[0m\u001b[0;34m:\u001b[0m\u001b[0;34m\u001b[0m\u001b[0m\n",
      "\u001b[0;32m/Users/catherinehuang/anaconda3/lib/python3.5/site-packages/tensorflow/python/framework/ops.py\u001b[0m in \u001b[0;36mas_graph_element\u001b[0;34m(self, obj, allow_tensor, allow_operation)\u001b[0m\n\u001b[1;32m   2317\u001b[0m     \u001b[0;32mwith\u001b[0m \u001b[0mself\u001b[0m\u001b[0;34m.\u001b[0m\u001b[0m_lock\u001b[0m\u001b[0;34m:\u001b[0m\u001b[0;34m\u001b[0m\u001b[0m\n\u001b[0;32m-> 2318\u001b[0;31m       \u001b[0;32mreturn\u001b[0m \u001b[0mself\u001b[0m\u001b[0;34m.\u001b[0m\u001b[0m_as_graph_element_locked\u001b[0m\u001b[0;34m(\u001b[0m\u001b[0mobj\u001b[0m\u001b[0;34m,\u001b[0m \u001b[0mallow_tensor\u001b[0m\u001b[0;34m,\u001b[0m \u001b[0mallow_operation\u001b[0m\u001b[0;34m)\u001b[0m\u001b[0;34m\u001b[0m\u001b[0m\n\u001b[0m\u001b[1;32m   2319\u001b[0m \u001b[0;34m\u001b[0m\u001b[0m\n",
      "\u001b[0;32m/Users/catherinehuang/anaconda3/lib/python3.5/site-packages/tensorflow/python/framework/ops.py\u001b[0m in \u001b[0;36m_as_graph_element_locked\u001b[0;34m(self, obj, allow_tensor, allow_operation)\u001b[0m\n\u001b[1;32m   2406\u001b[0m       raise TypeError(\"Can not convert a %s into a %s.\"\n\u001b[0;32m-> 2407\u001b[0;31m                       % (type(obj).__name__, types_str))\n\u001b[0m\u001b[1;32m   2408\u001b[0m \u001b[0;34m\u001b[0m\u001b[0m\n",
      "\u001b[0;31mTypeError\u001b[0m: Can not convert a float32 into a Tensor or Operation.",
      "\nDuring handling of the above exception, another exception occurred:\n",
      "\u001b[0;31mTypeError\u001b[0m                                 Traceback (most recent call last)",
      "\u001b[0;32m<ipython-input-171-f78ebb469e55>\u001b[0m in \u001b[0;36m<module>\u001b[0;34m()\u001b[0m\n\u001b[1;32m      6\u001b[0m     err = sess.run(loss,\n\u001b[1;32m      7\u001b[0m                         feed_dict={x: data,\n\u001b[0;32m----> 8\u001b[0;31m                                    y_target: target, Lambda: wd_lambda})\n\u001b[0m\u001b[1;32m      9\u001b[0m     acc = np.mean((y_predicted.eval(feed_dict={x: data,\n\u001b[1;32m     10\u001b[0m                                                y_target: target}) > 0.5)\n",
      "\u001b[0;32m/Users/catherinehuang/anaconda3/lib/python3.5/site-packages/tensorflow/python/client/session.py\u001b[0m in \u001b[0;36mrun\u001b[0;34m(self, fetches, feed_dict, options, run_metadata)\u001b[0m\n\u001b[1;32m    764\u001b[0m     \u001b[0;32mtry\u001b[0m\u001b[0;34m:\u001b[0m\u001b[0;34m\u001b[0m\u001b[0m\n\u001b[1;32m    765\u001b[0m       result = self._run(None, fetches, feed_dict, options_ptr,\n\u001b[0;32m--> 766\u001b[0;31m                          run_metadata_ptr)\n\u001b[0m\u001b[1;32m    767\u001b[0m       \u001b[0;32mif\u001b[0m \u001b[0mrun_metadata\u001b[0m\u001b[0;34m:\u001b[0m\u001b[0;34m\u001b[0m\u001b[0m\n\u001b[1;32m    768\u001b[0m         \u001b[0mproto_data\u001b[0m \u001b[0;34m=\u001b[0m \u001b[0mtf_session\u001b[0m\u001b[0;34m.\u001b[0m\u001b[0mTF_GetBuffer\u001b[0m\u001b[0;34m(\u001b[0m\u001b[0mrun_metadata_ptr\u001b[0m\u001b[0;34m)\u001b[0m\u001b[0;34m\u001b[0m\u001b[0m\n",
      "\u001b[0;32m/Users/catherinehuang/anaconda3/lib/python3.5/site-packages/tensorflow/python/client/session.py\u001b[0m in \u001b[0;36m_run\u001b[0;34m(self, handle, fetches, feed_dict, options, run_metadata)\u001b[0m\n\u001b[1;32m    949\u001b[0m \u001b[0;34m\u001b[0m\u001b[0m\n\u001b[1;32m    950\u001b[0m     \u001b[0;31m# Create a fetch handler to take care of the structure of fetches.\u001b[0m\u001b[0;34m\u001b[0m\u001b[0;34m\u001b[0m\u001b[0m\n\u001b[0;32m--> 951\u001b[0;31m     \u001b[0mfetch_handler\u001b[0m \u001b[0;34m=\u001b[0m \u001b[0m_FetchHandler\u001b[0m\u001b[0;34m(\u001b[0m\u001b[0mself\u001b[0m\u001b[0;34m.\u001b[0m\u001b[0m_graph\u001b[0m\u001b[0;34m,\u001b[0m \u001b[0mfetches\u001b[0m\u001b[0;34m,\u001b[0m \u001b[0mfeed_dict_string\u001b[0m\u001b[0;34m)\u001b[0m\u001b[0;34m\u001b[0m\u001b[0m\n\u001b[0m\u001b[1;32m    952\u001b[0m \u001b[0;34m\u001b[0m\u001b[0m\n\u001b[1;32m    953\u001b[0m     \u001b[0;31m# Run request and get response.\u001b[0m\u001b[0;34m\u001b[0m\u001b[0;34m\u001b[0m\u001b[0m\n",
      "\u001b[0;32m/Users/catherinehuang/anaconda3/lib/python3.5/site-packages/tensorflow/python/client/session.py\u001b[0m in \u001b[0;36m__init__\u001b[0;34m(self, graph, fetches, feeds)\u001b[0m\n\u001b[1;32m    405\u001b[0m     \"\"\"\n\u001b[1;32m    406\u001b[0m     \u001b[0;32mwith\u001b[0m \u001b[0mgraph\u001b[0m\u001b[0;34m.\u001b[0m\u001b[0mas_default\u001b[0m\u001b[0;34m(\u001b[0m\u001b[0;34m)\u001b[0m\u001b[0;34m:\u001b[0m\u001b[0;34m\u001b[0m\u001b[0m\n\u001b[0;32m--> 407\u001b[0;31m       \u001b[0mself\u001b[0m\u001b[0;34m.\u001b[0m\u001b[0m_fetch_mapper\u001b[0m \u001b[0;34m=\u001b[0m \u001b[0m_FetchMapper\u001b[0m\u001b[0;34m.\u001b[0m\u001b[0mfor_fetch\u001b[0m\u001b[0;34m(\u001b[0m\u001b[0mfetches\u001b[0m\u001b[0;34m)\u001b[0m\u001b[0;34m\u001b[0m\u001b[0m\n\u001b[0m\u001b[1;32m    408\u001b[0m     \u001b[0mself\u001b[0m\u001b[0;34m.\u001b[0m\u001b[0m_fetches\u001b[0m \u001b[0;34m=\u001b[0m \u001b[0;34m[\u001b[0m\u001b[0;34m]\u001b[0m\u001b[0;34m\u001b[0m\u001b[0m\n\u001b[1;32m    409\u001b[0m     \u001b[0mself\u001b[0m\u001b[0;34m.\u001b[0m\u001b[0m_targets\u001b[0m \u001b[0;34m=\u001b[0m \u001b[0;34m[\u001b[0m\u001b[0;34m]\u001b[0m\u001b[0;34m\u001b[0m\u001b[0m\n",
      "\u001b[0;32m/Users/catherinehuang/anaconda3/lib/python3.5/site-packages/tensorflow/python/client/session.py\u001b[0m in \u001b[0;36mfor_fetch\u001b[0;34m(fetch)\u001b[0m\n\u001b[1;32m    236\u001b[0m         \u001b[0;32mif\u001b[0m \u001b[0misinstance\u001b[0m\u001b[0;34m(\u001b[0m\u001b[0mfetch\u001b[0m\u001b[0;34m,\u001b[0m \u001b[0mtensor_type\u001b[0m\u001b[0;34m)\u001b[0m\u001b[0;34m:\u001b[0m\u001b[0;34m\u001b[0m\u001b[0m\n\u001b[1;32m    237\u001b[0m           \u001b[0mfetches\u001b[0m\u001b[0;34m,\u001b[0m \u001b[0mcontraction_fn\u001b[0m \u001b[0;34m=\u001b[0m \u001b[0mfetch_fn\u001b[0m\u001b[0;34m(\u001b[0m\u001b[0mfetch\u001b[0m\u001b[0;34m)\u001b[0m\u001b[0;34m\u001b[0m\u001b[0m\n\u001b[0;32m--> 238\u001b[0;31m           \u001b[0;32mreturn\u001b[0m \u001b[0m_ElementFetchMapper\u001b[0m\u001b[0;34m(\u001b[0m\u001b[0mfetches\u001b[0m\u001b[0;34m,\u001b[0m \u001b[0mcontraction_fn\u001b[0m\u001b[0;34m)\u001b[0m\u001b[0;34m\u001b[0m\u001b[0m\n\u001b[0m\u001b[1;32m    239\u001b[0m     \u001b[0;31m# Did not find anything.\u001b[0m\u001b[0;34m\u001b[0m\u001b[0;34m\u001b[0m\u001b[0m\n\u001b[1;32m    240\u001b[0m     raise TypeError('Fetch argument %r has invalid type %r' %\n",
      "\u001b[0;32m/Users/catherinehuang/anaconda3/lib/python3.5/site-packages/tensorflow/python/client/session.py\u001b[0m in \u001b[0;36m__init__\u001b[0;34m(self, fetches, contraction_fn)\u001b[0m\n\u001b[1;32m    269\u001b[0m         raise TypeError('Fetch argument %r has invalid type %r, '\n\u001b[1;32m    270\u001b[0m                         \u001b[0;34m'must be a string or Tensor. (%s)'\u001b[0m\u001b[0;34m\u001b[0m\u001b[0m\n\u001b[0;32m--> 271\u001b[0;31m                         % (fetch, type(fetch), str(e)))\n\u001b[0m\u001b[1;32m    272\u001b[0m       \u001b[0;32mexcept\u001b[0m \u001b[0mValueError\u001b[0m \u001b[0;32mas\u001b[0m \u001b[0me\u001b[0m\u001b[0;34m:\u001b[0m\u001b[0;34m\u001b[0m\u001b[0m\n\u001b[1;32m    273\u001b[0m         raise ValueError('Fetch argument %r cannot be interpreted as a '\n",
      "\u001b[0;31mTypeError\u001b[0m: Fetch argument 2.3841789 has invalid type <class 'numpy.float32'>, must be a string or Tensor. (Can not convert a float32 into a Tensor or Operation.)"
     ]
    }
   ],
   "source": [
    "# test and validation\n",
    "validation_dict = {\"valid\":(validData, validTarget),\n",
    "                    \"test\":(testData, testTarget)}\n",
    "for dataset in validation_dict:\n",
    "    data, target = validation_dict[dataset]\n",
    "    err = sess.run(loss,\n",
    "                    feed_dict={x: data,\n",
    "                               y_target: target, \n",
    "                               Lambda: wd_lambda}\n",
    "                  )\n",
    "    acc = np.mean((y_predicted.eval(feed_dict={x: data,\n",
    "                                               y_target: target}) > 0.5)\n",
    "                                == testTarget)\n",
    "    print(\"Final %s MSE: %.2f, acc: %.2f\"%(dataset, errTest, acc_test))"
   ]
  },
  {
   "cell_type": "code",
   "execution_count": null,
   "metadata": {
    "collapsed": true
   },
   "outputs": [],
   "source": []
  }
 ],
 "metadata": {
  "anaconda-cloud": {},
  "kernelspec": {
   "display_name": "Python [default]",
   "language": "python",
   "name": "python3"
  },
  "language_info": {
   "codemirror_mode": {
    "name": "ipython",
    "version": 3
   },
   "file_extension": ".py",
   "mimetype": "text/x-python",
   "name": "python",
   "nbconvert_exporter": "python",
   "pygments_lexer": "ipython3",
   "version": "3.5.2"
  }
 },
 "nbformat": 4,
 "nbformat_minor": 1
}
